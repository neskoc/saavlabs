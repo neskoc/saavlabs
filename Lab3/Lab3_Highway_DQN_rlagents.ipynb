{
  "nbformat": 4,
  "nbformat_minor": 0,
  "metadata": {
    "colab": {
      "name": "Lab3 Highway DQN rlagents",
      "provenance": [],
      "collapsed_sections": [],
      "toc_visible": true,
      "include_colab_link": true
    },
    "kernelspec": {
      "name": "python3",
      "language": "python",
      "display_name": "Python 3"
    },
    "accelerator": "GPU",
    "pycharm": {
      "stem_cell": {
        "cell_type": "raw",
        "source": [],
        "metadata": {
          "collapsed": false
        }
      }
    }
  },
  "cells": [
    {
      "cell_type": "markdown",
      "metadata": {
        "id": "view-in-github",
        "colab_type": "text"
      },
      "source": [
        "<a href=\"https://colab.research.google.com/github/neskoc/saavlabs/blob/main/Lab3/Lab3_Highway_DQN_rlagents.ipynb\" target=\"_parent\"><img src=\"https://colab.research.google.com/assets/colab-badge.svg\" alt=\"Open In Colab\"/></a>"
      ]
    },
    {
      "cell_type": "markdown",
      "metadata": {
        "id": "KTBW2COTwOg_"
      },
      "source": [
        "Lab3 is based on highway-env https://github.com/eleurent/highway-env. In \n",
        "envs/highway_env.py, the vehicle is rewarded for reaching a high speed, staying on the rightmost lanes and avoiding collisions for in highway driving (highway-env). Your task is to add an additional term to penalize changing lanes. (Ideally we should penalize changing lanes to the left more than changing to the right, but this is a simplified exercise.) Please refer to envs/roundabout_env for reference.\n",
        "\n",
        "Steps:\n",
        "\n",
        "1) Fork the highway-env repository to your own GitHub account, and modify highway_env.py. (if you are not familiar with GitHub, I recommend installing GitHub Desktop https://desktop.github.com.)\n",
        "\n",
        "2) Replace \n",
        "!pip install highway-env \n",
        "with path to your own repository:\n",
        "!pip install git+https://github.com/USERNAME/highway-env\n",
        "\n",
        "3) Train your agent for different values of lane_change_reward, and different environments with varying complexity, starting from the simplest:\n",
        "\n",
        "env.config[\"lane_change_reward\"] = 0\n",
        "\n",
        "env.config[\"vehicles_count\"] = 0\n",
        "\n",
        "env.config[\"lanes_count\"] = 2\n",
        "\n",
        "env.config[\"initial_lane_id\"] = 0\n",
        "\n",
        "In this simple environment, during testing the vehicle should switch to the right lane quickly and stay in the right lane. (It is possible for it to stay in the left lane during testing if your training num_episodes is too small, since the agent may not have had a chance to try the lane change action during training.)\n",
        "Try different values of lane_change_reward (e.g., -0.1, -1, -10, etc. note that it must be negative), and different numbers of vehicles/lanes. Make lane_change_reward very negative until you observe that the vehicle prefers *collision* to *lane change to avoid collision*. Submit your IPython Notebook, and a short report (or text blocks within the Notebook) describing the different configurations you have tried, and your observations for each config, including two configs that differ only in the lane_change_reward, one with no or rare collisions, one with frequent collisions. Please share your Colab link with the trained model and the recorded videos for the testing in IPython Notebook, so we do not have to re-train the models (unless you are not using Colab, then upload your IPython Notebook or .py file to Canvas). \n",
        "\n",
        "Notes: \n",
        "\n",
        "1) More complex environments demand more training time (more num_episodes), so do not make your environment more complex than necessary. You may try increasing the  vehicles_density and reward_speed_range to increase the chances of collision. You may also find \"Script to Stop Google Colab From Disconnecting\" to be helpful.\n",
        "\n",
        "2) You may want to tune DQN hyperparams in configs/HighwayEnv/agents/DQNAgent/dqn.json, e.g., discount factor gamma, and epsilon greedy exploration params tau, temperature, final_temperature for different num_episodes.\n",
        "\n",
        "3) The error message \"fatal: destination path 'highway-env' already exists and is not an empty directory\" in the first code cell can be safely ignored.\n"
      ]
    },
    {
      "cell_type": "markdown",
      "metadata": {
        "id": "sepDWoBqdRMK"
      },
      "source": [
        "# Training a DQN on `highway-v0` with rlagents\n",
        "## Import requirements"
      ]
    },
    {
      "cell_type": "code",
      "metadata": {
        "id": "Kx8X4s8krNWt",
        "colab": {
          "base_uri": "https://localhost:8080/"
        },
        "outputId": "f7688489-175c-4bc8-e6e1-90b052ba5e50"
      },
      "source": [
        "# Environment\n",
        "#pip install highway-env\n",
        "!pip install git+https://github.com/neskoc/highway-env\n",
        "import gym\n",
        "import highway_env\n",
        "\n",
        "# Agent\n",
        "!pip install git+https://github.com/eleurent/rl-agents\n",
        "\n",
        "# Visualisation utils\n",
        "import sys\n",
        "%load_ext tensorboard\n",
        "!pip install tensorboardx gym pyvirtualdisplay\n",
        "!apt-get install -y xvfb python-opengl ffmpeg\n",
        "!git clone https://github.com/eleurent/highway-env.git\n",
        "sys.path.insert(0, '/content/highway-env/scripts/')\n",
        "from utils import show_videos"
      ],
      "execution_count": 1,
      "outputs": [
        {
          "output_type": "stream",
          "text": [
            "Collecting git+https://github.com/neskoc/highway-env\n",
            "  Cloning https://github.com/neskoc/highway-env to /tmp/pip-req-build-o9rsgj1i\n",
            "  Running command git clone -q https://github.com/neskoc/highway-env /tmp/pip-req-build-o9rsgj1i\n",
            "  Installing build dependencies ... \u001b[?25l\u001b[?25hdone\n",
            "  Getting requirements to build wheel ... \u001b[?25l\u001b[?25hdone\n",
            "  Installing backend dependencies ... \u001b[?25l\u001b[?25hdone\n",
            "    Preparing wheel metadata ... \u001b[?25l\u001b[?25hdone\n",
            "Requirement already satisfied (use --upgrade to upgrade): highway-env==1.2 from git+https://github.com/neskoc/highway-env in /usr/local/lib/python3.7/dist-packages\n",
            "Requirement already satisfied: numpy in /usr/local/lib/python3.7/dist-packages (from highway-env==1.2) (1.19.5)\n",
            "Requirement already satisfied: gym in /usr/local/lib/python3.7/dist-packages (from highway-env==1.2) (0.17.3)\n",
            "Requirement already satisfied: pygame in /usr/local/lib/python3.7/dist-packages (from highway-env==1.2) (2.0.1)\n",
            "Requirement already satisfied: matplotlib in /usr/local/lib/python3.7/dist-packages (from highway-env==1.2) (3.2.2)\n",
            "Requirement already satisfied: pandas in /usr/local/lib/python3.7/dist-packages (from highway-env==1.2) (1.1.5)\n",
            "Requirement already satisfied: cloudpickle<1.7.0,>=1.2.0 in /usr/local/lib/python3.7/dist-packages (from gym->highway-env==1.2) (1.3.0)\n",
            "Requirement already satisfied: scipy in /usr/local/lib/python3.7/dist-packages (from gym->highway-env==1.2) (1.4.1)\n",
            "Requirement already satisfied: pyglet<=1.5.0,>=1.4.0 in /usr/local/lib/python3.7/dist-packages (from gym->highway-env==1.2) (1.5.0)\n",
            "Requirement already satisfied: cycler>=0.10 in /usr/local/lib/python3.7/dist-packages (from matplotlib->highway-env==1.2) (0.10.0)\n",
            "Requirement already satisfied: pyparsing!=2.0.4,!=2.1.2,!=2.1.6,>=2.0.1 in /usr/local/lib/python3.7/dist-packages (from matplotlib->highway-env==1.2) (2.4.7)\n",
            "Requirement already satisfied: kiwisolver>=1.0.1 in /usr/local/lib/python3.7/dist-packages (from matplotlib->highway-env==1.2) (1.3.1)\n",
            "Requirement already satisfied: python-dateutil>=2.1 in /usr/local/lib/python3.7/dist-packages (from matplotlib->highway-env==1.2) (2.8.1)\n",
            "Requirement already satisfied: pytz>=2017.2 in /usr/local/lib/python3.7/dist-packages (from pandas->highway-env==1.2) (2018.9)\n",
            "Requirement already satisfied: future in /usr/local/lib/python3.7/dist-packages (from pyglet<=1.5.0,>=1.4.0->gym->highway-env==1.2) (0.16.0)\n",
            "Requirement already satisfied: six in /usr/local/lib/python3.7/dist-packages (from cycler>=0.10->matplotlib->highway-env==1.2) (1.15.0)\n",
            "Building wheels for collected packages: highway-env\n",
            "  Building wheel for highway-env (PEP 517) ... \u001b[?25l\u001b[?25hdone\n",
            "  Created wheel for highway-env: filename=highway_env-1.2-cp37-none-any.whl size=92257 sha256=27af596a6a340a0b85ee34546d7192569c322583406a0f06c051b607ead7ff15\n",
            "  Stored in directory: /tmp/pip-ephem-wheel-cache-axm3xhgv/wheels/3d/5a/fa/a5935b7fb89bd329a8df1fe050305501291bbcf949beda941c\n",
            "Successfully built highway-env\n",
            "Collecting git+https://github.com/eleurent/rl-agents\n",
            "  Cloning https://github.com/eleurent/rl-agents to /tmp/pip-req-build-4lvs7jco\n",
            "  Running command git clone -q https://github.com/eleurent/rl-agents /tmp/pip-req-build-4lvs7jco\n",
            "Requirement already satisfied (use --upgrade to upgrade): rl-agents==1.0.dev0 from git+https://github.com/eleurent/rl-agents in /usr/local/lib/python3.7/dist-packages\n",
            "Requirement already satisfied: gym in /usr/local/lib/python3.7/dist-packages (from rl-agents==1.0.dev0) (0.17.3)\n",
            "Requirement already satisfied: numpy in /usr/local/lib/python3.7/dist-packages (from rl-agents==1.0.dev0) (1.19.5)\n",
            "Requirement already satisfied: pandas in /usr/local/lib/python3.7/dist-packages (from rl-agents==1.0.dev0) (1.1.5)\n",
            "Requirement already satisfied: numba in /usr/local/lib/python3.7/dist-packages (from rl-agents==1.0.dev0) (0.51.2)\n",
            "Requirement already satisfied: pygame in /usr/local/lib/python3.7/dist-packages (from rl-agents==1.0.dev0) (2.0.1)\n",
            "Requirement already satisfied: matplotlib in /usr/local/lib/python3.7/dist-packages (from rl-agents==1.0.dev0) (3.2.2)\n",
            "Requirement already satisfied: seaborn in /usr/local/lib/python3.7/dist-packages (from rl-agents==1.0.dev0) (0.11.1)\n",
            "Requirement already satisfied: six in /usr/local/lib/python3.7/dist-packages (from rl-agents==1.0.dev0) (1.15.0)\n",
            "Requirement already satisfied: docopt in /usr/local/lib/python3.7/dist-packages (from rl-agents==1.0.dev0) (0.6.2)\n",
            "Requirement already satisfied: torch>=1.2.0 in /usr/local/lib/python3.7/dist-packages (from rl-agents==1.0.dev0) (1.8.1+cu101)\n",
            "Requirement already satisfied: tensorboardX in /usr/local/lib/python3.7/dist-packages (from rl-agents==1.0.dev0) (2.2)\n",
            "Requirement already satisfied: cloudpickle<1.7.0,>=1.2.0 in /usr/local/lib/python3.7/dist-packages (from gym->rl-agents==1.0.dev0) (1.3.0)\n",
            "Requirement already satisfied: pyglet<=1.5.0,>=1.4.0 in /usr/local/lib/python3.7/dist-packages (from gym->rl-agents==1.0.dev0) (1.5.0)\n",
            "Requirement already satisfied: scipy in /usr/local/lib/python3.7/dist-packages (from gym->rl-agents==1.0.dev0) (1.4.1)\n",
            "Requirement already satisfied: pytz>=2017.2 in /usr/local/lib/python3.7/dist-packages (from pandas->rl-agents==1.0.dev0) (2018.9)\n",
            "Requirement already satisfied: python-dateutil>=2.7.3 in /usr/local/lib/python3.7/dist-packages (from pandas->rl-agents==1.0.dev0) (2.8.1)\n",
            "Requirement already satisfied: llvmlite<0.35,>=0.34.0.dev0 in /usr/local/lib/python3.7/dist-packages (from numba->rl-agents==1.0.dev0) (0.34.0)\n",
            "Requirement already satisfied: setuptools in /usr/local/lib/python3.7/dist-packages (from numba->rl-agents==1.0.dev0) (57.0.0)\n",
            "Requirement already satisfied: cycler>=0.10 in /usr/local/lib/python3.7/dist-packages (from matplotlib->rl-agents==1.0.dev0) (0.10.0)\n",
            "Requirement already satisfied: pyparsing!=2.0.4,!=2.1.2,!=2.1.6,>=2.0.1 in /usr/local/lib/python3.7/dist-packages (from matplotlib->rl-agents==1.0.dev0) (2.4.7)\n",
            "Requirement already satisfied: kiwisolver>=1.0.1 in /usr/local/lib/python3.7/dist-packages (from matplotlib->rl-agents==1.0.dev0) (1.3.1)\n",
            "Requirement already satisfied: typing-extensions in /usr/local/lib/python3.7/dist-packages (from torch>=1.2.0->rl-agents==1.0.dev0) (3.7.4.3)\n",
            "Requirement already satisfied: protobuf>=3.8.0 in /usr/local/lib/python3.7/dist-packages (from tensorboardX->rl-agents==1.0.dev0) (3.12.4)\n",
            "Requirement already satisfied: future in /usr/local/lib/python3.7/dist-packages (from pyglet<=1.5.0,>=1.4.0->gym->rl-agents==1.0.dev0) (0.16.0)\n",
            "Building wheels for collected packages: rl-agents\n",
            "  Building wheel for rl-agents (setup.py) ... \u001b[?25l\u001b[?25hdone\n",
            "  Created wheel for rl-agents: filename=rl_agents-1.0.dev0-cp37-none-any.whl size=114561 sha256=4e5af0bd903382e921b5f280b662439aedf45e4be2bbfabd5911e2419bafc44a\n",
            "  Stored in directory: /tmp/pip-ephem-wheel-cache-tep14r7a/wheels/be/14/44/bc2b8a73d904f2a421fde80db171e2bae90dfee95f293befca\n",
            "Successfully built rl-agents\n",
            "Requirement already satisfied: tensorboardx in /usr/local/lib/python3.7/dist-packages (2.2)\n",
            "Requirement already satisfied: gym in /usr/local/lib/python3.7/dist-packages (0.17.3)\n",
            "Requirement already satisfied: pyvirtualdisplay in /usr/local/lib/python3.7/dist-packages (2.2)\n",
            "Requirement already satisfied: numpy in /usr/local/lib/python3.7/dist-packages (from tensorboardx) (1.19.5)\n",
            "Requirement already satisfied: protobuf>=3.8.0 in /usr/local/lib/python3.7/dist-packages (from tensorboardx) (3.12.4)\n",
            "Requirement already satisfied: cloudpickle<1.7.0,>=1.2.0 in /usr/local/lib/python3.7/dist-packages (from gym) (1.3.0)\n",
            "Requirement already satisfied: pyglet<=1.5.0,>=1.4.0 in /usr/local/lib/python3.7/dist-packages (from gym) (1.5.0)\n",
            "Requirement already satisfied: scipy in /usr/local/lib/python3.7/dist-packages (from gym) (1.4.1)\n",
            "Requirement already satisfied: EasyProcess in /usr/local/lib/python3.7/dist-packages (from pyvirtualdisplay) (0.3)\n",
            "Requirement already satisfied: six>=1.9 in /usr/local/lib/python3.7/dist-packages (from protobuf>=3.8.0->tensorboardx) (1.15.0)\n",
            "Requirement already satisfied: setuptools in /usr/local/lib/python3.7/dist-packages (from protobuf>=3.8.0->tensorboardx) (57.0.0)\n",
            "Requirement already satisfied: future in /usr/local/lib/python3.7/dist-packages (from pyglet<=1.5.0,>=1.4.0->gym) (0.16.0)\n",
            "Reading package lists... Done\n",
            "Building dependency tree       \n",
            "Reading state information... Done\n",
            "python-opengl is already the newest version (3.1.0+dfsg-1).\n",
            "ffmpeg is already the newest version (7:3.4.8-0ubuntu0.2).\n",
            "xvfb is already the newest version (2:1.19.6-1ubuntu4.9).\n",
            "0 upgraded, 0 newly installed, 0 to remove and 39 not upgraded.\n",
            "fatal: destination path 'highway-env' already exists and is not an empty directory.\n"
          ],
          "name": "stdout"
        }
      ]
    },
    {
      "cell_type": "markdown",
      "metadata": {
        "id": "vvOEW00pdHrG"
      },
      "source": [
        "## Training\n",
        "\n",
        "Prepare environment, agent, and evaluation process.\n"
      ]
    },
    {
      "cell_type": "code",
      "metadata": {
        "id": "QowKW3ix45ZW",
        "colab": {
          "base_uri": "https://localhost:8080/"
        },
        "outputId": "8fe34165-14ba-40c4-e213-a6a6a41fe1cd"
      },
      "source": [
        "from rl_agents.trainer.evaluation import Evaluation\n",
        "from rl_agents.agents.common.factory import load_agent, load_environment\n",
        "\n",
        "# Get the environment and agent configurations from the rl-agents repository\n",
        "!git clone https://github.com/neskoc/rl-agents.git\n",
        "%cd /content/rl-agents/scripts/\n"
      ],
      "execution_count": 2,
      "outputs": [
        {
          "output_type": "stream",
          "text": [
            "fatal: destination path 'rl-agents' already exists and is not an empty directory.\n",
            "/content/rl-agents/scripts\n"
          ],
          "name": "stdout"
        }
      ]
    },
    {
      "cell_type": "code",
      "metadata": {
        "id": "2m8C7GUhdZ1l"
      },
      "source": [
        "import json\n",
        "\n",
        "def load_and_print_json(file):\n",
        "    # Opening JSON file\n",
        "    f = open(file,)\n",
        "\n",
        "    # returns JSON object as \n",
        "    # a dictionary\n",
        "    data = json.load(f)\n",
        "    print(file)\n",
        "    print(json.dumps(data, indent=4, sort_keys=True))\n",
        "\n",
        "    # Closing file\n",
        "    f.close()"
      ],
      "execution_count": 3,
      "outputs": []
    },
    {
      "cell_type": "code",
      "metadata": {
        "id": "0kta171leAum",
        "colab": {
          "base_uri": "https://localhost:8080/",
          "height": 1000
        },
        "outputId": "a2125924-e190-4115-a7dc-e2dd86f03907"
      },
      "source": [
        "import pprint\n",
        "from matplotlib import pyplot as plt\n",
        "import numpy as np\n",
        "import shutil\n",
        "\n",
        "env_config = 'configs/HighwayEnv/env.json'\n",
        "agent_config = 'configs/HighwayEnv/agents/DQNAgent/dqn.json'\n",
        "load_and_print_json(agent_config)\n",
        "\n",
        "env = load_environment(env_config)\n",
        "np.random.seed(42)\n",
        "env.seed(42)\n",
        "\n",
        "\n",
        "num_episodes = 50\n",
        "env.config[\"lane_change_reward\"] = -0.01\n",
        "env.config[\"vehicles_count\"] = 50\n",
        "env.config[\"lanes_count\"] = 2\n",
        "env.config[\"initial_lane_id\"] = 0\n",
        "# env.config[\"show_trajectories\"] = True\n",
        "env.config[\"high_speed_reward\"] = 0.7\n",
        "# env.config[\"right_lane_reward\"] = 0.5\n",
        "env.config[\"vehicles_density\"] = 1.4\n",
        "env.config[\"ego_spacing\"] = 4\n",
        "env.config['reward_speed_range'] = [40, 100]\n",
        "env.config[\"collision_reward\"] = -200\n",
        "#env.config['reward_speed_range'] = [0, 100]\n",
        "pprint.pprint(env.config)\n",
        "pprint.pprint(agent_config)\n",
        "\n",
        "env.reset()\n",
        "plt.imshow(env.render(mode=\"rgb_array\"))\n",
        "plt.show()\n",
        "\n",
        "agent = load_agent(agent_config, env)\n",
        "evaluation = Evaluation(env, agent, num_episodes=num_episodes, display_env=False)\n",
        "print(f\"Ready to train {agent} on {env}\")\n",
        "\n",
        "shutil.copy2(agent_config, evaluation.run_directory)\n",
        "file_name = str(evaluation.run_directory) + '/env.json'\n",
        "with open(file_name, 'w') as outfile:\n",
        "    json.dump(env.config, outfile)\n",
        "print(evaluation.run_directory)"
      ],
      "execution_count": 17,
      "outputs": [
        {
          "output_type": "stream",
          "text": [
            "configs/HighwayEnv/agents/DQNAgent/dqn.json\n",
            "{\n",
            "    \"__class__\": \"<class 'rl_agents.agents.deep_q_network.pytorch.DQNAgent'>\",\n",
            "    \"batch_size\": 32,\n",
            "    \"double\": false,\n",
            "    \"exploration\": {\n",
            "        \"final_temperature\": 0.1,\n",
            "        \"method\": \"EpsilonGreedy\",\n",
            "        \"tau\": 100,\n",
            "        \"temperature\": 0.8\n",
            "    },\n",
            "    \"gamma\": 0.9,\n",
            "    \"loss_function\": \"l2\",\n",
            "    \"memory_capacity\": 30000,\n",
            "    \"model\": {\n",
            "        \"layers\": [\n",
            "            256,\n",
            "            256\n",
            "        ],\n",
            "        \"type\": \"MultiLayerPerceptron\"\n",
            "    },\n",
            "    \"n_steps\": 1,\n",
            "    \"target_update\": 50\n",
            "}\n",
            "INFO: Making new env: highway-v0\n",
            "{'action': {'type': 'DiscreteMetaAction'},\n",
            " 'centering_position': [0.3, 0.5],\n",
            " 'collision_reward': -200,\n",
            " 'controlled_vehicles': 1,\n",
            " 'duration': 40,\n",
            " 'ego_spacing': 4,\n",
            " 'high_speed_reward': 0.7,\n",
            " 'id': 'highway-v0',\n",
            " 'import_module': 'highway_env',\n",
            " 'initial_lane_id': 0,\n",
            " 'lane_change_reward': -0.01,\n",
            " 'lanes_count': 2,\n",
            " 'manual_control': False,\n",
            " 'observation': {'type': 'Kinematics'},\n",
            " 'offroad_terminal': False,\n",
            " 'offscreen_rendering': False,\n",
            " 'other_vehicles_type': 'highway_env.vehicle.behavior.IDMVehicle',\n",
            " 'policy_frequency': 1,\n",
            " 'real_time_rendering': False,\n",
            " 'render_agent': True,\n",
            " 'reward_speed_range': [40, 100],\n",
            " 'right_lane_reward': 0.1,\n",
            " 'scaling': 5.5,\n",
            " 'screen_height': 150,\n",
            " 'screen_width': 600,\n",
            " 'show_trajectories': False,\n",
            " 'simulation_frequency': 15,\n",
            " 'vehicles_count': 50,\n",
            " 'vehicles_density': 1.4}\n",
            "'configs/HighwayEnv/agents/DQNAgent/dqn.json'\n"
          ],
          "name": "stdout"
        },
        {
          "output_type": "display_data",
          "data": {
            "image/png": "[encoded data removed]",
            "text/plain": [
              "<Figure size 432x288 with 1 Axes>"
            ]
          },
          "metadata": {
            "tags": []
          }
        },
        {
          "output_type": "stream",
          "text": [
            "[INFO] Choosing GPU device: 0, memory used: 1062 \n"
          ],
          "name": "stderr"
        },
        {
          "output_type": "stream",
          "text": [
            "INFO: Creating monitor directory out/HighwayEnv/DQNAgent/run_20210606-165739_9651\n",
            "Ready to train <rl_agents.agents.deep_q_network.pytorch.DQNAgent object at 0x7f46356d1390> on <HighwayEnv<highway-v0>>\n",
            "out/HighwayEnv/DQNAgent/run_20210606-165739_9651\n"
          ],
          "name": "stdout"
        }
      ]
    },
    {
      "cell_type": "markdown",
      "metadata": {
        "id": "BtK9dtfb0JMF"
      },
      "source": [
        "Start training. Run tensorboard locally to visualize training."
      ]
    },
    {
      "cell_type": "code",
      "metadata": {
        "id": "sFVq1gFz42Eg",
        "colab": {
          "base_uri": "https://localhost:8080/",
          "height": 715
        },
        "outputId": "a9fa011c-876f-4356-a681-79cbb49fc69a"
      },
      "source": [
        "%tensorboard --logdir \"{evaluation.directory}\"\n",
        "evaluation.train()"
      ],
      "execution_count": null,
      "outputs": [
        {
          "output_type": "display_data",
          "data": {
            "text/plain": [
              "Reusing TensorBoard on port 6006 (pid 444), started 3:03:03 ago. (Use '!kill 444' to kill it.)"
            ]
          },
          "metadata": {
            "tags": []
          }
        },
        {
          "output_type": "display_data",
          "data": {
            "application/javascript": [
              "\n",
              "        (async () => {\n",
              "            const url = new URL(await google.colab.kernel.proxyPort(6006, {'cache': true}));\n",
              "            url.searchParams.set('tensorboardColab', 'true');\n",
              "            const iframe = document.createElement('iframe');\n",
              "            iframe.src = url;\n",
              "            iframe.setAttribute('width', '100%');\n",
              "            iframe.setAttribute('height', '800');\n",
              "            iframe.setAttribute('frameborder', 0);\n",
              "            document.body.appendChild(iframe);\n",
              "        })();\n",
              "    "
            ],
            "text/plain": [
              "<IPython.core.display.Javascript object>"
            ]
          },
          "metadata": {
            "tags": []
          }
        },
        {
          "output_type": "stream",
          "text": [
            "[INFO] Episode 0 score: 2.0 \n",
            "[INFO] Episode 1 score: 3.0 \n",
            "[INFO] Episode 2 score: 3.0 \n",
            "[INFO] Episode 3 score: 5.0 \n",
            "[INFO] Episode 4 score: 3.0 \n",
            "[INFO] Episode 5 score: 5.0 \n",
            "[INFO] Episode 6 score: 3.0 \n",
            "[INFO] Episode 7 score: 2.0 \n",
            "[INFO] Episode 8 score: 7.0 \n",
            "[INFO] Episode 9 score: 3.0 \n",
            "[INFO] Episode 10 score: 2.0 \n",
            "[INFO] Episode 11 score: 3.0 \n",
            "[INFO] Episode 12 score: 2.0 \n",
            "[INFO] Episode 13 score: 1.0 \n",
            "[INFO] Episode 14 score: 3.0 \n",
            "[INFO] Episode 15 score: 1.0 \n",
            "[INFO] Episode 16 score: 14.0 \n",
            "[INFO] Episode 17 score: 4.0 \n",
            "[INFO] Episode 18 score: 6.0 \n",
            "[INFO] Episode 19 score: 5.0 \n",
            "[INFO] Episode 20 score: 2.0 \n",
            "[INFO] Episode 21 score: 4.0 \n",
            "[INFO] Episode 22 score: 3.0 \n",
            "[INFO] Episode 23 score: 5.0 \n",
            "[INFO] Episode 24 score: 3.0 \n",
            "[INFO] Episode 25 score: 4.0 \n",
            "[INFO] Episode 26 score: 12.0 \n",
            "[INFO] Episode 27 score: 1.0 \n",
            "[INFO] Episode 28 score: 1.0 \n",
            "[INFO] Episode 29 score: 6.0 \n",
            "[INFO] Episode 30 score: 4.0 \n",
            "[INFO] Episode 31 score: 5.0 \n",
            "[INFO] Episode 32 score: 2.0 \n",
            "[INFO] Episode 33 score: 9.0 \n",
            "[INFO] Episode 34 score: 3.0 \n",
            "[INFO] Episode 35 score: 4.0 \n",
            "[INFO] Episode 36 score: 3.0 \n"
          ],
          "name": "stderr"
        }
      ]
    },
    {
      "cell_type": "markdown",
      "metadata": {
        "id": "-lNvWg42RWiw"
      },
      "source": [
        "Progress can be visualised in the tensorboard cell above, which should update every 30s (or manually). You may need to click the *Fit domain to data* buttons below each graph."
      ]
    },
    {
      "cell_type": "markdown",
      "metadata": {
        "id": "VKfvu5uhzCIU"
      },
      "source": [
        "## Testing\n",
        "\n",
        "Run the learned policy for a few episodes."
      ]
    },
    {
      "cell_type": "code",
      "metadata": {
        "id": "gY0rpVYUtRpN",
        "colab": {
          "base_uri": "https://localhost:8080/",
          "height": 1000
        },
        "outputId": "7c165782-661c-440b-b96b-7e5563ccfe98"
      },
      "source": [
        "#env = load_environment(env_config)\n",
        "env.configure({\"offscreen_rendering\": True})\n",
        "agent = load_agent(agent_config, env)\n",
        "evaluation = Evaluation(env, agent, num_episodes=3, recover=True)\n",
        "evaluation.test()\n",
        "show_videos(evaluation.run_directory)"
      ],
      "execution_count": 16,
      "outputs": [
        {
          "output_type": "stream",
          "text": [
            "[INFO] Choosing GPU device: 0, memory used: 1060 \n",
            "[INFO] Loaded DQNAgent model from out/HighwayEnv/DQNAgent/saved_models/latest.tar \n"
          ],
          "name": "stderr"
        },
        {
          "output_type": "stream",
          "text": [
            "INFO: Creating monitor directory out/HighwayEnv/DQNAgent/run_20210606-165637_9651\n",
            "INFO: Starting new video recorder writing to /content/rl-agents/scripts/out/HighwayEnv/DQNAgent/run_20210606-165637_9651/openaigym.video.8.9651.video000000.mp4\n"
          ],
          "name": "stdout"
        },
        {
          "output_type": "stream",
          "text": [
            "[INFO] Episode 0 score: 9.0 \n"
          ],
          "name": "stderr"
        },
        {
          "output_type": "stream",
          "text": [
            "INFO: Starting new video recorder writing to /content/rl-agents/scripts/out/HighwayEnv/DQNAgent/run_20210606-165637_9651/openaigym.video.8.9651.video000001.mp4\n"
          ],
          "name": "stdout"
        },
        {
          "output_type": "stream",
          "text": [
            "[INFO] Episode 1 score: 2.0 \n"
          ],
          "name": "stderr"
        },
        {
          "output_type": "stream",
          "text": [
            "INFO: Starting new video recorder writing to /content/rl-agents/scripts/out/HighwayEnv/DQNAgent/run_20210606-165637_9651/openaigym.video.8.9651.video000002.mp4\n"
          ],
          "name": "stdout"
        },
        {
          "output_type": "stream",
          "text": [
            "[INFO] Episode 2 score: 7.0 \n"
          ],
          "name": "stderr"
        },
        {
          "output_type": "stream",
          "text": [
            "INFO: Finished writing results. You can upload them to the scoreboard via gym.upload('/content/rl-agents/scripts/out/HighwayEnv/DQNAgent/run_20210606-165637_9651')\n"
          ],
          "name": "stdout"
        },
        {
          "output_type": "display_data",
          "data": {
            "text/html": [
              "<video alt=\"out/HighwayEnv/DQNAgent/run_20210606-165637_9651/openaigym.video.8.9651.video000002.mp4\" autoplay\n",
              "                      loop controls style=\"height: 400px;\">\n",
              "                      <source src=\"data:video/mp4;base64,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\" type=\"video/mp4\" />\n",
              "                 </video><br><video alt=\"out/HighwayEnv/DQNAgent/run_20210606-165637_9651/openaigym.video.8.9651.video000000.mp4\" autoplay\n",
              "                      loop controls style=\"height: 400px;\">\n",
              "                      <source src=\"data:video/mp4;base64,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\" type=\"video/mp4\" />\n",
              "                 </video><br><video alt=\"out/HighwayEnv/DQNAgent/run_20210606-165637_9651/openaigym.video.8.9651.video000001.mp4\" autoplay\n",
              "                      loop controls style=\"height: 400px;\">\n",
              "                      <source src=\"data:video/mp4;base64,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\" type=\"video/mp4\" />\n",
              "                 </video>"
            ],
            "text/plain": [
              "<IPython.core.display.HTML object>"
            ]
          },
          "metadata": {
            "tags": []
          }
        }
      ]
    }
  ]
}